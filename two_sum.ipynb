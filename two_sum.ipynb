{
 "cells": [
  {
   "cell_type": "code",
   "execution_count": 10,
   "metadata": {},
   "outputs": [
    {
     "name": "stdout",
     "output_type": "stream",
     "text": [
      "[0, 1]\n"
     ]
    }
   ],
   "source": [
    "from typing import List\n",
    "class Solution:\n",
    "    def twoSum(self, nums: List[int], target: int) -> List[int]:\n",
    "        prevMap = {}  # val -> index\n",
    "\n",
    "        for i, n in enumerate(nums):\n",
    "            diff = target - n\n",
    "            if diff in prevMap:\n",
    "                return [prevMap[diff], i]\n",
    "            prevMap[n] = i\n",
    "\n",
    "c = Solution()\n",
    "print(c.twoSum([2,7,11,15], 9))"
   ]
  },
  {
   "cell_type": "code",
   "execution_count": 14,
   "metadata": {},
   "outputs": [
    {
     "name": "stdout",
     "output_type": "stream",
     "text": [
      "\n",
      "Step 1: Start, num_map is empty: {}\n",
      "\n",
      "Step 2: Number - 1 Index - 0\n",
      "  - Complement value: 3\n",
      "  - Complement not found. Storing 1 in num_map at index 0.\n",
      "  - Updated num_map: {1: 0}\n",
      "\n",
      "Step 2: Number - 2 Index - 1\n",
      "  - Complement value: 2\n",
      "  - Complement not found. Storing 2 in num_map at index 1.\n",
      "  - Updated num_map: {1: 0, 2: 1}\n",
      "\n",
      "Step 2: Number - 3 Index - 2\n",
      "  - Complement value: 1\n",
      "  - Found complement 1 in num_map! Returning indices [0, 2]\n",
      "\n",
      "Final Output: [0, 2]\n"
     ]
    }
   ],
   "source": [
    "from typing import List  # Import List for type hinting\n",
    "\n",
    "class Solution:\n",
    "    def twoSum(self, nums: List[int], target: int) -> List[int]:\n",
    "        num_map = {}  # Dictionary to store numbers and their indices\n",
    "        print(\"\\nStep 1: Start, num_map is empty:\", num_map)\n",
    "\n",
    "        for i, num in enumerate(nums):  # Loop through each number in the list\n",
    "            complement = target - num  # Find the number we need to add to 'num' to get the target\n",
    "            \n",
    "            print(f\"\\nStep 2: Number - {num} Index - {i}\")\n",
    "            print(f\"  - Complement value: {complement}\")\n",
    "\n",
    "            if complement in num_map:  # If complement is already in num_map, we found a pair\n",
    "                print(f\"  - Found complement {complement} in num_map! Returning indices [{num_map[complement]}, {i}]\")\n",
    "                return [num_map[complement], i]  # Return the indices of the two numbers\n",
    "            \n",
    "            # Store the number and its index in num_map\n",
    "            num_map[num] = i  \n",
    "            print(f\"  - Complement not found. Storing {num} in num_map at index {i}.\")\n",
    "            print(\"  - Updated num_map:\", num_map)\n",
    "\n",
    "        print(\"\\nNo solution found, returning an empty list.\")\n",
    "        return []  # Return an empty list if no solution is found\n",
    "\n",
    "# Example usage\n",
    "c = Solution()\n",
    "print(\"\\nFinal Output:\", c.twoSum([1, 2, 3, 4], 4))  # Expected output: [0, 2]\n"
   ]
  },
  {
   "cell_type": "code",
   "execution_count": 15,
   "metadata": {},
   "outputs": [
    {
     "data": {
      "text/plain": [
       "0"
      ]
     },
     "execution_count": 15,
     "metadata": {},
     "output_type": "execute_result"
    }
   ],
   "source": [
    "val ={1:0, 2:1}\n",
    "val[1]"
   ]
  },
  {
   "cell_type": "code",
   "execution_count": 17,
   "metadata": {},
   "outputs": [
    {
     "name": "stdout",
     "output_type": "stream",
     "text": [
      "[0, 1]\n"
     ]
    }
   ],
   "source": [
    "class Solution:\n",
    "    def twoSum(self, nums: List[int], target: int) -> List[int]:\n",
    "        dict_sol = {}\n",
    "        for i, num in enumerate(nums):\n",
    "            comp = target - num \n",
    "            if comp in dict_sol:\n",
    "                return[dict_sol[comp],i]\n",
    "            dict_sol[num] = i\n",
    "\n",
    "c = Solution()\n",
    "print(c.twoSum([2,7,11,15], 9))"
   ]
  }
 ],
 "metadata": {
  "kernelspec": {
   "display_name": "Python 3",
   "language": "python",
   "name": "python3"
  },
  "language_info": {
   "codemirror_mode": {
    "name": "ipython",
    "version": 3
   },
   "file_extension": ".py",
   "mimetype": "text/x-python",
   "name": "python",
   "nbconvert_exporter": "python",
   "pygments_lexer": "ipython3",
   "version": "3.13.2"
  }
 },
 "nbformat": 4,
 "nbformat_minor": 2
}
